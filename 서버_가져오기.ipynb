{
  "nbformat": 4,
  "nbformat_minor": 0,
  "metadata": {
    "colab": {
      "provenance": [],
      "authorship_tag": "ABX9TyN2SKLOASP4pwvL9q5PIivi",
      "include_colab_link": true
    },
    "kernelspec": {
      "name": "python3",
      "display_name": "Python 3"
    },
    "language_info": {
      "name": "python"
    }
  },
  "cells": [
    {
      "cell_type": "markdown",
      "metadata": {
        "id": "view-in-github",
        "colab_type": "text"
      },
      "source": [
        "<a href=\"https://colab.research.google.com/github/Soo2im/24lot/blob/main/%EC%84%9C%EB%B2%84_%EA%B0%80%EC%A0%B8%EC%98%A4%EA%B8%B0.ipynb\" target=\"_parent\"><img src=\"https://colab.research.google.com/assets/colab-badge.svg\" alt=\"Open In Colab\"/></a>"
      ]
    },
    {
      "cell_type": "code",
      "execution_count": 1,
      "metadata": {
        "id": "2SNSQVNCWj_A"
      },
      "outputs": [],
      "source": [
        "import requests"
      ]
    },
    {
      "cell_type": "code",
      "source": [
        "r = requests.get('https://api.thingspeak.com/update?api_key=LINSVSMUUOMXKVM6&field1=70')\n",
        "print(r.text)"
      ],
      "metadata": {
        "colab": {
          "base_uri": "https://localhost:8080/"
        },
        "id": "kRJkHjFNYX1y",
        "outputId": "9941cbe6-7c19-4d9c-d1f4-624fcf42ba77"
      },
      "execution_count": 3,
      "outputs": [
        {
          "output_type": "stream",
          "name": "stdout",
          "text": [
            "7\n"
          ]
        }
      ]
    },
    {
      "cell_type": "code",
      "source": [
        "import time\n",
        "values=[15,35,55,75,95]\n",
        "for v in values:\n",
        "  r = requests.get('https://api.thingspeak.com/update?api_key=LINSVSMUUOMXKVM6&field1={v}')\n",
        "  print(r.text)\n",
        "  time.sleep(25)\n",
        "print('done')"
      ],
      "metadata": {
        "colab": {
          "base_uri": "https://localhost:8080/"
        },
        "id": "posTtj5jYy7w",
        "outputId": "4cc39c95-5433-4653-f808-6a3b1ab96021"
      },
      "execution_count": 5,
      "outputs": [
        {
          "output_type": "stream",
          "name": "stdout",
          "text": [
            "10\n",
            "11\n",
            "12\n",
            "13\n",
            "14\n",
            "done\n"
          ]
        }
      ]
    },
    {
      "cell_type": "code",
      "source": [
        "import random\n",
        "\n",
        "for i in range(5):\n",
        "  v=random.randint(0,100)\n",
        "  r = requests.get('https://api.thingspeak.com/update?api_key=LINSVSMUUOMXKVM6&field1=' +str(v))\n",
        "  print(r.text)\n",
        "  time.sleep(15)\n",
        "print('done')"
      ],
      "metadata": {
        "colab": {
          "base_uri": "https://localhost:8080/"
        },
        "id": "I4C6MV85avge",
        "outputId": "5f46bc75-2ded-406a-9b7d-88cfc047f6f8"
      },
      "execution_count": 7,
      "outputs": [
        {
          "output_type": "stream",
          "name": "stdout",
          "text": [
            "15\n",
            "16\n",
            "17\n",
            "18\n",
            "19\n",
            "done\n"
          ]
        }
      ]
    }
  ]
}