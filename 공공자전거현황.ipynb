{
  "nbformat": 4,
  "nbformat_minor": 0,
  "metadata": {
    "colab": {
      "provenance": [],
      "authorship_tag": "ABX9TyNNqlpn5/SwIeKRD0QaTZ7n",
      "include_colab_link": true
    },
    "kernelspec": {
      "name": "python3",
      "display_name": "Python 3"
    },
    "language_info": {
      "name": "python"
    }
  },
  "cells": [
    {
      "cell_type": "markdown",
      "metadata": {
        "id": "view-in-github",
        "colab_type": "text"
      },
      "source": [
        "<a href=\"https://colab.research.google.com/github/Soo2im/24lot/blob/main/%EA%B3%B5%EA%B3%B5%EC%9E%90%EC%A0%84%EA%B1%B0%ED%98%84%ED%99%A9.ipynb\" target=\"_parent\"><img src=\"https://colab.research.google.com/assets/colab-badge.svg\" alt=\"Open In Colab\"/></a>"
      ]
    },
    {
      "cell_type": "code",
      "execution_count": 6,
      "metadata": {
        "colab": {
          "base_uri": "https://localhost:8080/"
        },
        "id": "Fff5S0P7GODW",
        "outputId": "8927d424-4d3b-423b-9629-70841290d9ba"
      },
      "outputs": [
        {
          "output_type": "stream",
          "name": "stdout",
          "text": [
            "{'rentBikeStatus': {'list_total_count': 5, 'RESULT': {'CODE': 'INFO-000', 'MESSAGE': '정상 처리되었습니다.'}, 'row': [{'rackTotCnt': '15', 'stationName': '102. 망원역 1번출구 앞', 'parkingBikeTotCnt': '28', 'shared': '187', 'stationLatitude': '37.55564880', 'stationLongitude': '126.91062927', 'stationId': 'ST-4'}, {'rackTotCnt': '14', 'stationName': '103. 망원역 2번출구 앞', 'parkingBikeTotCnt': '28', 'shared': '200', 'stationLatitude': '37.55495071', 'stationLongitude': '126.91083527', 'stationId': 'ST-5'}, {'rackTotCnt': '13', 'stationName': '104. 합정역 1번출구 앞', 'parkingBikeTotCnt': '16', 'shared': '123', 'stationLatitude': '37.55073929', 'stationLongitude': '126.91508484', 'stationId': 'ST-6'}, {'rackTotCnt': '5', 'stationName': '105. 합정역 5번출구 앞', 'parkingBikeTotCnt': '17', 'shared': '340', 'stationLatitude': '37.55000687', 'stationLongitude': '126.91482544', 'stationId': 'ST-7'}, {'rackTotCnt': '12', 'stationName': '106. 합정역 7번출구 앞', 'parkingBikeTotCnt': '3', 'shared': '25', 'stationLatitude': '37.54864502', 'stationLongitude': '126.91282654', 'stationId': 'ST-8'}]}}\n"
          ]
        }
      ],
      "source": [
        "import requests\n",
        "r = requests.get('http://openapi.seoul.go.kr:8088/694b6c745364726531303653686b6d76/json/bikeList/1/5/')\n",
        "print(r.json())\n",
        "j = r.json()\n"
      ]
    },
    {
      "cell_type": "code",
      "source": [
        "print('서울시 공공 자전거 현황입니다')\n",
        "\n",
        "for x in j['rentBikeStatus']['row']:\n",
        "  print('대여소 위치=', x['stationName'], ' /  대여건수=', x['shared'])"
      ],
      "metadata": {
        "colab": {
          "base_uri": "https://localhost:8080/"
        },
        "id": "tioHJ9EPMjOu",
        "outputId": "bc3815b0-bdf8-4ff3-a12a-db6c32562b4b"
      },
      "execution_count": 12,
      "outputs": [
        {
          "output_type": "stream",
          "name": "stdout",
          "text": [
            "서울시 공공 자전거 현황입니다\n",
            "대여소 위치= 102. 망원역 1번출구 앞  /  대여건수= 187\n",
            "대여소 위치= 103. 망원역 2번출구 앞  /  대여건수= 200\n",
            "대여소 위치= 104. 합정역 1번출구 앞  /  대여건수= 123\n",
            "대여소 위치= 105. 합정역 5번출구 앞  /  대여건수= 340\n",
            "대여소 위치= 106. 합정역 7번출구 앞  /  대여건수= 25\n"
          ]
        }
      ]
    }
  ]
}