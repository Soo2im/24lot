{
  "nbformat": 4,
  "nbformat_minor": 0,
  "metadata": {
    "colab": {
      "provenance": [],
      "authorship_tag": "ABX9TyNpVaUY3MwUwgxbQMxz4LNF",
      "include_colab_link": true
    },
    "kernelspec": {
      "name": "python3",
      "display_name": "Python 3"
    },
    "language_info": {
      "name": "python"
    }
  },
  "cells": [
    {
      "cell_type": "markdown",
      "metadata": {
        "id": "view-in-github",
        "colab_type": "text"
      },
      "source": [
        "<a href=\"https://colab.research.google.com/github/Soo2im/24lot/blob/main/%EC%98%81%ED%99%94_%EC%8B%A4%EC%8B%9C%EA%B0%84_%EC%98%88%EB%A7%A4%ED%86%B5%EA%B3%84.ipynb\" target=\"_parent\"><img src=\"https://colab.research.google.com/assets/colab-badge.svg\" alt=\"Open In Colab\"/></a>"
      ]
    },
    {
      "cell_type": "code",
      "execution_count": 1,
      "metadata": {
        "colab": {
          "base_uri": "https://localhost:8080/"
        },
        "id": "2OBj_ojDB6Eo",
        "outputId": "841a6224-e593-4d7f-9009-a52de1361d6a"
      },
      "outputs": [
        {
          "output_type": "stream",
          "name": "stdout",
          "text": [
            "<?xml version=\"1.0\" encoding=\"utf-8\" standalone=\"yes\"?><boxOfficeResult><boxofficeType>일별 박스오피스</boxofficeType><showRange>20240312~20240312</showRange><dailyBoxOfficeList><dailyBoxOffice><rnum>1</rnum><rank>1</rank><rankInten>0</rankInten><rankOldAndNew>OLD</rankOldAndNew><movieCd>20234675</movieCd><movieNm>파묘</movieNm><openDt>2024-02-22</openDt><salesAmt>1156060130</salesAmt><salesShare>65.2</salesShare><salesInten>-132591600</salesInten><salesChange>-10.3</salesChange><salesAcc>79950484335</salesAcc><audiCnt>121934</audiCnt><audiInten>-13329</audiInten><audiChange>-9.9</audiChange><audiAcc>8299140</audiAcc><scrnCnt>1967</scrnCnt><showCnt>7547</showCnt></dailyBoxOffice><dailyBoxOffice><rnum>2</rnum><rank>2</rank><rankInten>0</rankInten><rankOldAndNew>OLD</rankOldAndNew><movieCd>20236295</movieCd><movieNm>듄: 파트2</movieNm><openDt>2024-02-28</openDt><salesAmt>334676772</salesAmt><salesShare>18.9</salesShare><salesInten>-44923956</salesInten><salesChange>-11.8</salesChange><salesAcc>15237045633</salesAcc><audiCnt>27395</audiCnt><audiInten>-3851</audiInten><audiChange>-12.3</audiChange><audiAcc>1341319</audiAcc><scrnCnt>967</scrnCnt><showCnt>2462</showCnt></dailyBoxOffice><dailyBoxOffice><rnum>3</rnum><rank>3</rank><rankInten>0</rankInten><rankOldAndNew>OLD</rankOldAndNew><movieCd>20236732</movieCd><movieNm>가여운 것들</movieNm><openDt>2024-03-06</openDt><salesAmt>65442704</salesAmt><salesShare>3.7</salesShare><salesInten>-1381159</salesInten><salesChange>-2.1</salesChange><salesAcc>784293026</salesAcc><audiCnt>6791</audiCnt><audiInten>-99</audiInten><audiChange>-1.4</audiChange><audiAcc>79102</audiAcc><scrnCnt>442</scrnCnt><showCnt>773</showCnt></dailyBoxOffice><dailyBoxOffice><rnum>4</rnum><rank>4</rank><rankInten>0</rankInten><rankOldAndNew>OLD</rankOldAndNew><movieCd>20234789</movieCd><movieNm>패스트 라이브즈</movieNm><openDt>2024-03-06</openDt><salesAmt>54763645</salesAmt><salesShare>3.1</salesShare><salesInten>5239194</salesInten><salesChange>10.6</salesChange><salesAcc>596619912</salesAcc><audiCnt>6371</audiCnt><audiInten>691</audiInten><audiChange>12.2</audiChange><audiAcc>67148</audiAcc><scrnCnt>566</scrnCnt><showCnt>961</showCnt></dailyBoxOffice><dailyBoxOffice><rnum>5</rnum><rank>5</rank><rankInten>0</rankInten><rankOldAndNew>OLD</rankOldAndNew><movieCd>20236180</movieCd><movieNm>웡카</movieNm><openDt>2024-01-31</openDt><salesAmt>44048002</salesAmt><salesShare>2.5</salesShare><salesInten>-22289</salesInten><salesChange>-0.1</salesChange><salesAcc>32846054163</salesAcc><audiCnt>4630</audiCnt><audiInten>95</audiInten><audiChange>2.1</audiChange><audiAcc>3416038</audiAcc><scrnCnt>504</scrnCnt><showCnt>788</showCnt></dailyBoxOffice><dailyBoxOffice><rnum>6</rnum><rank>6</rank><rankInten>0</rankInten><rankOldAndNew>OLD</rankOldAndNew><movieCd>20247074</movieCd><movieNm>건국전쟁</movieNm><openDt>2024-02-01</openDt><salesAmt>31977155</salesAmt><salesShare>1.8</salesShare><salesInten>2095855</salesInten><salesChange>7</salesChange><salesAcc>10680458402</salesAcc><audiCnt>3695</audiCnt><audiInten>294</audiInten><audiChange>8.6</audiChange><audiAcc>1148171</audiAcc><scrnCnt>382</scrnCnt><showCnt>489</showCnt></dailyBoxOffice><dailyBoxOffice><rnum>7</rnum><rank>7</rank><rankInten>0</rankInten><rankOldAndNew>OLD</rankOldAndNew><movieCd>20247076</movieCd><movieNm>귀멸의 칼날: 인연의 기적, 그리고 합동 강화 훈련으로</movieNm><openDt>2024-02-14</openDt><salesAmt>12986600</salesAmt><salesShare>0.7</salesShare><salesInten>686600</salesInten><salesChange>5.6</salesChange><salesAcc>5467947300</salesAcc><audiCnt>1270</audiCnt><audiInten>58</audiInten><audiChange>4.8</audiChange><audiAcc>482156</audiAcc><scrnCnt>166</scrnCnt><showCnt>234</showCnt></dailyBoxOffice><dailyBoxOffice><rnum>8</rnum><rank>8</rank><rankInten>1</rankInten><rankOldAndNew>OLD</rankOldAndNew><movieCd>20231415</movieCd><movieNm>소풍</movieNm><openDt>2024-02-07</openDt><salesAmt>7809800</salesAmt><salesShare>0.4</salesShare><salesInten>1873900</salesInten><salesChange>31.6</salesChange><salesAcc>2991373849</salesAcc><audiCnt>902</audiCnt><audiInten>239</audiInten><audiChange>36</audiChange><audiAcc>334232</audiAcc><scrnCnt>76</scrnCnt><showCnt>90</showCnt></dailyBoxOffice><dailyBoxOffice><rnum>9</rnum><rank>9</rank><rankInten>0</rankInten><rankOldAndNew>NEW</rankOldAndNew><movieCd>20236714</movieCd><movieNm>극장판 스파이 패밀리 코드 : 화이트</movieNm><openDt>2024-03-20</openDt><salesAmt>10608000</salesAmt><salesShare>0.6</salesShare><salesInten>10608000</salesInten><salesChange>100</salesChange><salesAcc>13348000</salesAcc><audiCnt>624</audiCnt><audiInten>624</audiInten><audiChange>100</audiChange><audiAcc>804</audiAcc><scrnCnt>1</scrnCnt><showCnt>1</showCnt></dailyBoxOffice><dailyBoxOffice><rnum>10</rnum><rank>10</rank><rankInten>0</rankInten><rankOldAndNew>NEW</rankOldAndNew><movieCd>20232134</movieCd><movieNm>돌핀</movieNm><openDt>2024-03-13</openDt><salesAmt>5022000</salesAmt><salesShare>0.3</salesShare><salesInten>5022000</salesInten><salesChange>100</salesChange><salesAcc>12154000</salesAcc><audiCnt>558</audiCnt><audiInten>558</audiInten><audiChange>100</audiChange><audiAcc>1363</audiAcc><scrnCnt>3</scrnCnt><showCnt>3</showCnt></dailyBoxOffice></dailyBoxOfficeList></boxOfficeResult>\n"
          ]
        }
      ],
      "source": [
        "import requests\n",
        "from bs4 import BeautifulSoup\n",
        "\n",
        "r = requests.get('https://www.kobis.or.kr/kobisopenapi/webservice/rest/boxoffice/searchDailyBoxOfficeList.xml?key=6bc72ea318d05fde448b4ad07da670f4&targetDt=20240312')\n",
        "print(r.text)"
      ]
    },
    {
      "cell_type": "code",
      "source": [
        "soup = BeautifulSoup(r.text, features=\"xml\")"
      ],
      "metadata": {
        "id": "B6uvU7x_FKXg"
      },
      "execution_count": 2,
      "outputs": []
    },
    {
      "cell_type": "code",
      "source": [
        "soup.find_all('movieNm')"
      ],
      "metadata": {
        "colab": {
          "base_uri": "https://localhost:8080/"
        },
        "id": "Vu0AH0oWFunZ",
        "outputId": "74f087b0-3254-4a98-b6ea-9102c6366498"
      },
      "execution_count": 3,
      "outputs": [
        {
          "output_type": "execute_result",
          "data": {
            "text/plain": [
              "[<movieNm>파묘</movieNm>,\n",
              " <movieNm>듄: 파트2</movieNm>,\n",
              " <movieNm>가여운 것들</movieNm>,\n",
              " <movieNm>패스트 라이브즈</movieNm>,\n",
              " <movieNm>웡카</movieNm>,\n",
              " <movieNm>건국전쟁</movieNm>,\n",
              " <movieNm>귀멸의 칼날: 인연의 기적, 그리고 합동 강화 훈련으로</movieNm>,\n",
              " <movieNm>소풍</movieNm>,\n",
              " <movieNm>극장판 스파이 패밀리 코드 : 화이트</movieNm>,\n",
              " <movieNm>돌핀</movieNm>]"
            ]
          },
          "metadata": {},
          "execution_count": 3
        }
      ]
    },
    {
      "cell_type": "code",
      "source": [
        "soup.find_all('audiCnt')"
      ],
      "metadata": {
        "colab": {
          "base_uri": "https://localhost:8080/"
        },
        "id": "6D-uw8GtFzwh",
        "outputId": "1f0961ee-cfc0-411b-ea1c-fe12813642ba"
      },
      "execution_count": 4,
      "outputs": [
        {
          "output_type": "execute_result",
          "data": {
            "text/plain": [
              "[<audiCnt>121934</audiCnt>,\n",
              " <audiCnt>27395</audiCnt>,\n",
              " <audiCnt>6791</audiCnt>,\n",
              " <audiCnt>6371</audiCnt>,\n",
              " <audiCnt>4630</audiCnt>,\n",
              " <audiCnt>3695</audiCnt>,\n",
              " <audiCnt>1270</audiCnt>,\n",
              " <audiCnt>902</audiCnt>,\n",
              " <audiCnt>624</audiCnt>,\n",
              " <audiCnt>558</audiCnt>]"
            ]
          },
          "metadata": {},
          "execution_count": 4
        }
      ]
    },
    {
      "cell_type": "code",
      "source": [
        "print('학번=', 235319, '이름=', '이수인')"
      ],
      "metadata": {
        "colab": {
          "base_uri": "https://localhost:8080/"
        },
        "id": "oBeO0DVMF59x",
        "outputId": "a51598ce-10bf-4db1-98be-e2fbbcde7540"
      },
      "execution_count": 5,
      "outputs": [
        {
          "output_type": "stream",
          "name": "stdout",
          "text": [
            "학번= 235319 이름= 이수인\n"
          ]
        }
      ]
    },
    {
      "cell_type": "code",
      "source": [
        "print('교수님 파묘 보셨나요??', '파묘 재밌어요')"
      ],
      "metadata": {
        "colab": {
          "base_uri": "https://localhost:8080/"
        },
        "id": "SNYml7mQF7pB",
        "outputId": "cfb66bc1-f56c-40aa-da4d-5df66ce2faee"
      },
      "execution_count": 6,
      "outputs": [
        {
          "output_type": "stream",
          "name": "stdout",
          "text": [
            "교수님 파묘 보셨나요?? 파묘 재밌어요\n"
          ]
        }
      ]
    }
  ]
}