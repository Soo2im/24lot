{
  "nbformat": 4,
  "nbformat_minor": 0,
  "metadata": {
    "colab": {
      "provenance": [],
      "authorship_tag": "ABX9TyO6/iwZN16odkU5WBinzDG2",
      "include_colab_link": true
    },
    "kernelspec": {
      "name": "python3",
      "display_name": "Python 3"
    },
    "language_info": {
      "name": "python"
    }
  },
  "cells": [
    {
      "cell_type": "markdown",
      "metadata": {
        "id": "view-in-github",
        "colab_type": "text"
      },
      "source": [
        "<a href=\"https://colab.research.google.com/github/Soo2im/24lot/blob/main/%ED%99%98%EA%B2%BD%EC%84%BC%EC%84%9C%EA%B0%92_mqtt%EB%A1%9C_%EB%B0%9B%EC%95%84%EC%84%9C_thingspeak%EB%A1%9C_%EB%B3%B4%EB%82%B4.ipynb\" target=\"_parent\"><img src=\"https://colab.research.google.com/assets/colab-badge.svg\" alt=\"Open In Colab\"/></a>"
      ]
    },
    {
      "cell_type": "code",
      "execution_count": 1,
      "metadata": {
        "colab": {
          "base_uri": "https://localhost:8080/"
        },
        "id": "wAEcF1MTSFiy",
        "outputId": "f138f94f-bbaf-43de-9398-14e17285b127"
      },
      "outputs": [
        {
          "output_type": "stream",
          "name": "stdout",
          "text": [
            "Collecting paho-mqtt\n",
            "  Downloading paho_mqtt-2.0.0-py3-none-any.whl (66 kB)\n",
            "\u001b[?25l     \u001b[90m━━━━━━━━━━━━━━━━━━━━━━━━━━━━━━━━━━━━━━━━\u001b[0m \u001b[32m0.0/66.9 kB\u001b[0m \u001b[31m?\u001b[0m eta \u001b[36m-:--:--\u001b[0m\r\u001b[2K     \u001b[91m━━━━━━━━━━━━━━━━━━━━━━━━━━━━━━━━━━━━\u001b[0m\u001b[91m╸\u001b[0m\u001b[90m━━━\u001b[0m \u001b[32m61.4/66.9 kB\u001b[0m \u001b[31m2.2 MB/s\u001b[0m eta \u001b[36m0:00:01\u001b[0m\r\u001b[2K     \u001b[90m━━━━━━━━━━━━━━━━━━━━━━━━━━━━━━━━━━━━━━━━\u001b[0m \u001b[32m66.9/66.9 kB\u001b[0m \u001b[31m1.4 MB/s\u001b[0m eta \u001b[36m0:00:00\u001b[0m\n",
            "\u001b[?25hInstalling collected packages: paho-mqtt\n",
            "Successfully installed paho-mqtt-2.0.0\n"
          ]
        }
      ],
      "source": [
        "!pip install paho-mqtt"
      ]
    },
    {
      "cell_type": "code",
      "source": [
        "import json\n",
        "import requests\n",
        "n=0\n",
        "\n",
        "def doit(topic, payload):\n",
        "  global n\n",
        "  print(topic, payload)\n",
        "  j=json.loads(payload)\n",
        "  #print(j['co2'])\n",
        "  #url='https://api.thingspeak.com/update?api_key=SZQMPX81KZBJU0FF'\n",
        "  url='https://api.thingspeak.com/update?api_key=SZQMPX81KZBJU0FF'\n",
        "  url +='&field1='+j['co2']\n",
        "  url +='&field2='+j['bme680'].split(',')[0]\n",
        "  if n>15:\n",
        "    r=requests.get(url)\n",
        "    print(url, r.text)\n",
        "    n=0\n",
        "  n+=1"
      ],
      "metadata": {
        "id": "mXjMgVU-S0tl"
      },
      "execution_count": 5,
      "outputs": []
    },
    {
      "cell_type": "code",
      "source": [
        "import paho.mqtt.client as mqtt\n",
        "\n",
        "def on_connect(client, userdata, flags, reason_code, properties):\n",
        "    print(f\"Connected with result code {reason_code}\")\n",
        "    client.subscribe(\"connectware/indoor/data/1501\")\n",
        "\n",
        "def on_message(client, userdata, msg):\n",
        "    doit(msg.topic, msg.payload.decode('utf8'))\n",
        "\n",
        "client = mqtt.Client(mqtt.CallbackAPIVersion.VERSION2)\n",
        "client.on_connect = on_connect\n",
        "client.on_message = on_message\n",
        "\n",
        "client.connect(\"damoa.io\", 1883, 60)\n",
        "client.loop_forever()"
      ],
      "metadata": {
        "colab": {
          "base_uri": "https://localhost:8080/"
        },
        "id": "BYuI3vqUS3F8",
        "outputId": "2fa2edd6-0c12-4fb4-f3de-a0cd6e9aac58"
      },
      "execution_count": null,
      "outputs": [
        {
          "output_type": "stream",
          "name": "stdout",
          "text": [
            "Connected with result code Success\n",
            "connectware/indoor/data/1501 {\"dust\":\"11,11\",\"co2\":\"398\",\"bme680\":\"25.12,31.76,916212,100971,29.51\",\"time\":\"2024-04-04 22:30:05\", \"serial\":25461, \"ip\":\"203.255.190.49\"}\n",
            "connectware/indoor/data/1501 {\"dust\":\"10,10\",\"co2\":\"398\",\"bme680\":\"25.12,31.76,918088,100971,29.51\",\"time\":\"2024-04-04 22:30:06\", \"serial\":25462, \"ip\":\"203.255.190.49\"}\n",
            "connectware/indoor/data/1501 {\"dust\":\"10,10\",\"co2\":\"398\",\"bme680\":\"25.12,31.76,920602,100971,29.51\",\"time\":\"2024-04-04 22:30:07\", \"serial\":25463, \"ip\":\"203.255.190.49\"}\n",
            "connectware/indoor/data/1501 {\"dust\":\"10,10\",\"co2\":\"398\",\"bme680\":\"25.12,31.75,917462,100971,29.51\",\"time\":\"2024-04-04 22:30:08\", \"serial\":25464, \"ip\":\"203.255.190.49\"}\n",
            "connectware/indoor/data/1501 {\"dust\":\"10,10\",\"co2\":\"398\",\"bme680\":\"25.12,31.76,916212,100971,29.51\",\"time\":\"2024-04-04 22:30:09\", \"serial\":25465, \"ip\":\"203.255.190.49\"}\n",
            "connectware/indoor/data/1501 {\"dust\":\"10,10\",\"co2\":\"398\",\"bme680\":\"25.12,31.76,918715,100971,29.51\",\"time\":\"2024-04-04 22:30:10\", \"serial\":25466, \"ip\":\"203.255.190.49\"}\n",
            "connectware/indoor/data/1501 {\"dust\":\"10,10\",\"co2\":\"398\",\"bme680\":\"25.12,31.76,919972,100971,29.43\",\"time\":\"2024-04-04 22:30:11\", \"serial\":25467, \"ip\":\"203.255.190.49\"}\n",
            "connectware/indoor/data/1501 {\"dust\":\"11,11\",\"co2\":\"398\",\"bme680\":\"25.12,31.76,916837,100973,29.43\",\"time\":\"2024-04-04 22:30:12\", \"serial\":25468, \"ip\":\"203.255.190.49\"}\n",
            "connectware/indoor/data/1501 {\"dust\":\"11,11\",\"co2\":\"398\",\"bme680\":\"25.12,31.75,918088,100972,29.43\",\"time\":\"2024-04-04 22:30:13\", \"serial\":25469, \"ip\":\"203.255.190.49\"}\n",
            "connectware/indoor/data/1501 {\"dust\":\"12,12\",\"co2\":\"398\",\"bme680\":\"25.12,31.77,917462,100971,29.43\",\"time\":\"2024-04-04 22:30:14\", \"serial\":25470, \"ip\":\"203.255.190.49\"}\n",
            "connectware/indoor/data/1501 {\"dust\":\"12,12\",\"co2\":\"398\",\"bme680\":\"25.12,31.75,918088,100971,29.51\",\"time\":\"2024-04-04 22:30:15\", \"serial\":25471, \"ip\":\"203.255.190.49\"}\n",
            "connectware/indoor/data/1501 {\"dust\":\"12,12\",\"co2\":\"398\",\"bme680\":\"25.12,31.75,919343,100972,29.51\",\"time\":\"2024-04-04 22:30:16\", \"serial\":25472, \"ip\":\"203.255.190.49\"}\n",
            "connectware/indoor/data/1501 {\"dust\":\"12,12\",\"co2\":\"398\",\"bme680\":\"25.12,31.77,919972,100971,29.43\",\"time\":\"2024-04-04 22:30:17\", \"serial\":25473, \"ip\":\"203.255.190.49\"}\n",
            "connectware/indoor/data/1501 {\"dust\":\"12,12\",\"co2\":\"398\",\"bme680\":\"25.12,31.77,919972,100972,29.43\",\"time\":\"2024-04-04 22:30:18\", \"serial\":25474, \"ip\":\"203.255.190.49\"}\n",
            "connectware/indoor/data/1501 {\"dust\":\"11,11\",\"co2\":\"398\",\"bme680\":\"25.12,31.76,914344,100972,29.51\",\"time\":\"2024-04-04 22:30:19\", \"serial\":25475, \"ip\":\"203.255.190.49\"}\n",
            "connectware/indoor/data/1501 {\"dust\":\"11,11\",\"co2\":\"398\",\"bme680\":\"25.11,31.76,915588,100972,29.43\",\"time\":\"2024-04-04 22:30:20\", \"serial\":25476, \"ip\":\"203.255.190.49\"}\n",
            "connectware/indoor/data/1501 {\"dust\":\"12,12\",\"co2\":\"398\",\"bme680\":\"25.11,31.76,921864,100971,29.43\",\"time\":\"2024-04-04 22:30:21\", \"serial\":25477, \"ip\":\"203.255.190.49\"}\n",
            "https://api.thingspeak.com/update?api_key=SZQMPX81KZBJU0FF&field1=398&field2=25.11 1\n",
            "connectware/indoor/data/1501 {\"dust\":\"12,12\",\"co2\":\"398\",\"bme680\":\"25.11,31.75,919343,100971,29.51\",\"time\":\"2024-04-04 22:30:22\", \"serial\":25478, \"ip\":\"203.255.190.49\"}\n",
            "connectware/indoor/data/1501 {\"dust\":\"12,12\",\"co2\":\"398\",\"bme680\":\"25.11,31.76,916212,100971,29.51\",\"time\":\"2024-04-04 22:30:23\", \"serial\":25479, \"ip\":\"203.255.190.49\"}\n",
            "connectware/indoor/data/1501 {\"dust\":\"12,12\",\"co2\":\"398\",\"bme680\":\"25.11,31.76,920602,100970,29.51\",\"time\":\"2024-04-04 22:30:24\", \"serial\":25480, \"ip\":\"203.255.190.49\"}\n",
            "connectware/indoor/data/1501 {\"dust\":\"12,12\",\"co2\":\"398\",\"bme680\":\"25.12,31.75,918088,100971,29.51\",\"time\":\"2024-04-04 22:30:25\", \"serial\":25481, \"ip\":\"203.255.190.49\"}\n",
            "connectware/indoor/data/1501 {\"dust\":\"12,13\",\"co2\":\"398\",\"bme680\":\"25.11,31.76,916837,100971,29.43\",\"time\":\"2024-04-04 22:30:26\", \"serial\":25482, \"ip\":\"203.255.190.49\"}\n",
            "connectware/indoor/data/1501 {\"dust\":\"12,13\",\"co2\":\"398\",\"bme680\":\"25.12,31.76,918088,100971,29.51\",\"time\":\"2024-04-04 22:30:27\", \"serial\":25483, \"ip\":\"203.255.190.49\"}\n",
            "connectware/indoor/data/1501 {\"dust\":\"12,13\",\"co2\":\"398\",\"bme680\":\"25.12,31.76,916837,100971,29.51\",\"time\":\"2024-04-04 22:30:28\", \"serial\":25484, \"ip\":\"203.255.190.49\"}\n",
            "connectware/indoor/data/1501 {\"dust\":\"12,13\",\"co2\":\"398\",\"bme680\":\"25.12,31.75,917462,100971,29.43\",\"time\":\"2024-04-04 22:30:29\", \"serial\":25485, \"ip\":\"203.255.190.49\"}\n",
            "connectware/indoor/data/1501 {\"dust\":\"12,13\",\"co2\":\"398\",\"bme680\":\"25.11,31.75,918088,100972,29.43\",\"time\":\"2024-04-04 22:30:30\", \"serial\":25486, \"ip\":\"203.255.190.49\"}\n",
            "connectware/indoor/data/1501 {\"dust\":\"12,12\",\"co2\":\"398\",\"bme680\":\"25.11,31.75,918088,100972,29.43\",\"time\":\"2024-04-04 22:30:31\", \"serial\":25487, \"ip\":\"203.255.190.49\"}\n",
            "connectware/indoor/data/1501 {\"dust\":\"12,12\",\"co2\":\"398\",\"bme680\":\"25.11,31.76,916212,100972,29.43\",\"time\":\"2024-04-04 22:30:32\", \"serial\":25488, \"ip\":\"203.255.190.49\"}\n",
            "connectware/indoor/data/1501 {\"dust\":\"12,13\",\"co2\":\"398\",\"bme680\":\"25.12,31.76,915588,100972,29.43\",\"time\":\"2024-04-04 22:30:33\", \"serial\":25489, \"ip\":\"203.255.190.49\"}\n",
            "connectware/indoor/data/1501 {\"dust\":\"12,13\",\"co2\":\"398\",\"bme680\":\"25.12,31.75,921864,100972,29.43\",\"time\":\"2024-04-04 22:30:34\", \"serial\":25490, \"ip\":\"203.255.190.49\"}\n",
            "connectware/indoor/data/1501 {\"dust\":\"12,13\",\"co2\":\"398\",\"bme680\":\"25.12,31.76,921232,100972,29.51\",\"time\":\"2024-04-04 22:30:35\", \"serial\":25491, \"ip\":\"203.255.190.49\"}\n",
            "connectware/indoor/data/1501 {\"dust\":\"13,14\",\"co2\":\"398\",\"bme680\":\"25.12,31.76,920602,100971,29.51\",\"time\":\"2024-04-04 22:30:36\", \"serial\":25492, \"ip\":\"203.255.190.49\"}\n",
            "connectware/indoor/data/1501 {\"dust\":\"13,14\",\"co2\":\"398\",\"bme680\":\"25.12,31.75,918715,100971,29.51\",\"time\":\"2024-04-04 22:30:37\", \"serial\":25493, \"ip\":\"203.255.190.49\"}\n",
            "https://api.thingspeak.com/update?api_key=SZQMPX81KZBJU0FF&field1=398&field2=25.12 2\n",
            "connectware/indoor/data/1501 {\"dust\":\"13,14\",\"co2\":\"398\",\"bme680\":\"25.12,31.75,918088,100971,29.51\",\"time\":\"2024-04-04 22:30:38\", \"serial\":25494, \"ip\":\"203.255.190.49\"}\n",
            "connectware/indoor/data/1501 {\"dust\":\"13,14\",\"co2\":\"398\",\"bme680\":\"25.12,31.76,917462,100970,29.51\",\"time\":\"2024-04-04 22:30:39\", \"serial\":25495, \"ip\":\"203.255.190.49\"}\n"
          ]
        }
      ]
    }
  ]
}